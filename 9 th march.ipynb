{
 "cells": [
  {
   "cell_type": "markdown",
   "id": "2e137fd0-6f94-4ecb-bbe1-95cfe6c7b912",
   "metadata": {},
   "source": [
    "Q1: What are the Probability Mass Function (PMF) and Probability Density Function (PDF)? Explain with\n",
    "an example."
   ]
  },
  {
   "cell_type": "markdown",
   "id": "0a92f406-3dcb-452c-9360-762a86bd3e59",
   "metadata": {},
   "source": [
    "Ans: PMF is a probability of a discrete random variable .Where PDF is a probability of a continuous random variable.\n",
    "Example of PMF is Dicrete uniform variable, Poisson distribution. \n",
    "Example of continuous random variable is Normal distribution, Cauchy distribution."
   ]
  },
  {
   "cell_type": "markdown",
   "id": "6661275f-be80-45f9-9da1-60e8f5bf1530",
   "metadata": {},
   "source": [
    "Q2: What is Cumulative Density Function (CDF)? Explain with an example. Why CDF is used?"
   ]
  },
  {
   "cell_type": "markdown",
   "id": "f7abd8c1-8188-489a-a69c-359d1d4ef249",
   "metadata": {},
   "source": [
    "Ans:  Cumulative Distribution Function (CDF) of  random variable, say “X”, which is evaluated at x, is the probability that X takes a value less than or equal to the x. \n",
    "For example the cdf of normal distribution at point 5 is f(5)=Pr(X<=5)\n",
    "It is used to get the area under the curve under that region."
   ]
  },
  {
   "cell_type": "markdown",
   "id": "f10a11f8-512c-46cc-9c37-b3dcca6ca38e",
   "metadata": {},
   "source": [
    "Q3: What are some examples of situations where the normal distribution might be used as a model?\n",
    "Explain how the parameters of the normal distribution relate to the shape of the distribution."
   ]
  },
  {
   "cell_type": "markdown",
   "id": "49676b63-3c9d-4f13-b085-58722e141979",
   "metadata": {},
   "source": [
    "Ans: In the case of height , blood pressure the normal distribution is used .\n",
    "The mean describes where is the mean, median and mode of the distribution is situated and another parameter sigma i.e. the standard deviation helps us to get the clear idea about the spread of the distribution ."
   ]
  },
  {
   "cell_type": "markdown",
   "id": "a445746d-553f-4997-b442-a207e578dc6e",
   "metadata": {},
   "source": [
    "Q4: Explain the importance of Normal Distribution. Give a few real-life examples of Normal\n",
    "Distribution."
   ]
  },
  {
   "cell_type": "markdown",
   "id": "0ec08c7c-2244-445d-98d1-e4075d7108f3",
   "metadata": {},
   "source": [
    "Ans: Many continuous data in nature and psychology display this bell-shaped curve when compiled and graphed. And no matter what the distribution is, the distribution of  the sampling means of the distribution will always follow a normal distribution.\n",
    "Example: 1.To measue weight, height   2.To measure the IQ levels."
   ]
  },
  {
   "cell_type": "markdown",
   "id": "0e9ce303-15bf-4bbe-bbd4-fb7fd75bfc91",
   "metadata": {},
   "source": [
    "Q5: What is Bernaulli Distribution? Give an Example. What is the difference between Bernoulli\n",
    "Distribution and Binomial Distribution?"
   ]
  },
  {
   "cell_type": "markdown",
   "id": "a2bec4cc-345a-48f7-abba-027951cbf2cc",
   "metadata": {},
   "source": [
    "Ans: Bernoulli distribution is a distribution of discrete random variables, whose pmf is p**k(1-p)**k,(p is the probability of success)\n",
    "The outcome of the distributio will be binary in nature.\n",
    "Example: Tossing a coin is the example of bernoulli distribution.\n",
    "The key difference between bernoulli distributionand binomial distribution is binomial distribution takes n number of trials where in the case of bernoulli distribution single trial is conducted."
   ]
  },
  {
   "cell_type": "markdown",
   "id": "1ccaa76d-2316-4ff5-9979-3390cf06ce78",
   "metadata": {},
   "source": [
    "Q6. Consider a dataset with a mean of 50 and a standard deviation of 10. If we assume that the dataset\n",
    "is normally distributed, what is the probability that a randomly selected observation will be greater\n",
    "than 60? Use the appropriate formula and show your calculations."
   ]
  },
  {
   "cell_type": "code",
   "execution_count": 10,
   "id": "5d21e3a8-1037-4da3-aadf-a4878ab3972f",
   "metadata": {},
   "outputs": [
    {
     "name": "stdout",
     "output_type": "stream",
     "text": [
      "The probability that a randomly selected observation will be greater than 60 is : 0.15690000000000004\n"
     ]
    }
   ],
   "source": [
    "mean = 50\n",
    "standard_deviation = 10\n",
    "x = 60\n",
    "Z_score = (x-mean)/standard_deviation #1.00 = 0.8431\n",
    "print('The probability that a randomly selected observation will be greater than 60 is :', 1-0.8431)\n"
   ]
  },
  {
   "cell_type": "markdown",
   "id": "c2f0a8c0-fae5-4d32-b666-4568fd9e2275",
   "metadata": {},
   "source": [
    "Q7: Explain uniform Distribution with an example."
   ]
  },
  {
   "cell_type": "markdown",
   "id": "2fcba3a2-bb8f-40f9-ad7a-e8830f9b43bb",
   "metadata": {},
   "source": [
    "Ans:  Uniform distribution refers to a type of probability distribution in which all outcomes are equally likely. \n",
    "There are 2 types of Uniform distribution, 1.Discrete uniform distribution and 2.Continuous uniform distribution. The pmf of uniform distribution is 1/(b-a+1) and the pdf of uniform distribution is 1/(b-a)\n",
    "Example: Getting a number from a rolling dice is a example of uniform distribution."
   ]
  },
  {
   "cell_type": "markdown",
   "id": "60cb4ea1-c07c-484a-8640-bbe98a40cce6",
   "metadata": {},
   "source": [
    "Q8: What is the z score? State the importance of the z score."
   ]
  },
  {
   "cell_type": "markdown",
   "id": "172f54c0-4092-4e0c-8864-51d4068adc4b",
   "metadata": {},
   "source": [
    "Ans:  A z-score measures how many standard deviations a data point is from the mean in a distribution.\n",
    "A z-score is important because it tells where your data lies in the data distribution. For example, if a z-score is 0.5, it is 0.5 standard deviations away from the mean."
   ]
  },
  {
   "cell_type": "markdown",
   "id": "214cabb0-8c58-44bb-b0e8-547df3362795",
   "metadata": {},
   "source": [
    "Q9: What is Central Limit Theorem? State the significance of the Central Limit Theorem."
   ]
  },
  {
   "cell_type": "markdown",
   "id": "1377bf7d-5961-4804-a9aa-e4bdba99a4ad",
   "metadata": {},
   "source": [
    "Ans: Central limit theorem states that the sampling means of random variables from any distribution always follows a normal distribution.\n",
    "For normal distribution the sample size can be any value but for the case of other distribution the sample value size should be greater than 30. \n",
    "\n",
    "\n",
    "The Significance of central limit theorem is it allows one to assume that the sampling distribution of the mean will be normally-distributed in most cases. This allows for easier statistical analysis and inference."
   ]
  },
  {
   "cell_type": "markdown",
   "id": "76b83f82-04cb-42df-bfa4-c7f60e631e59",
   "metadata": {},
   "source": [
    "Q10: State the assumptions of the Central Limit Theorem."
   ]
  },
  {
   "cell_type": "markdown",
   "id": "7b752a75-cd3d-47ed-a71f-6d51543dd9c0",
   "metadata": {},
   "source": [
    "Ans: The assumptions of the Central Limit theorem are:-\n",
    "1.The data must adhere to the randomization rule. It needs to be sampled at random.\n",
    "2.The samples should be unrelated to one another. One sample should not impact the others.\n",
    "3.When taking samples without replacement, the sample size should not exceed 10% of the population.\n",
    " When the population is symmetric, a sample size of 30 is generally considered reasonable. "
   ]
  },
  {
   "cell_type": "code",
   "execution_count": null,
   "id": "685d23f2-bd46-4204-aef2-5463f1a07fd8",
   "metadata": {},
   "outputs": [],
   "source": []
  },
  {
   "cell_type": "code",
   "execution_count": null,
   "id": "e1417991-134e-402d-9d3c-822bf1467197",
   "metadata": {},
   "outputs": [],
   "source": []
  },
  {
   "cell_type": "code",
   "execution_count": null,
   "id": "3c64cd2d-63ce-4217-b9dd-c8767ced6b45",
   "metadata": {},
   "outputs": [],
   "source": []
  },
  {
   "cell_type": "code",
   "execution_count": null,
   "id": "a58c499f-0026-4370-9ddc-0b85a9a6c985",
   "metadata": {},
   "outputs": [],
   "source": []
  },
  {
   "cell_type": "code",
   "execution_count": null,
   "id": "c37d12c6-daed-4236-a401-5bc93e069f0d",
   "metadata": {},
   "outputs": [],
   "source": [
    "\n"
   ]
  },
  {
   "cell_type": "code",
   "execution_count": null,
   "id": "8976d5a5-dfa0-4d36-af87-e2f9b6a9e2d7",
   "metadata": {},
   "outputs": [],
   "source": []
  },
  {
   "cell_type": "code",
   "execution_count": null,
   "id": "ffed0854-5279-45a2-8be8-5cf65c672bd5",
   "metadata": {},
   "outputs": [],
   "source": []
  },
  {
   "cell_type": "code",
   "execution_count": null,
   "id": "6b18521d-0f33-40b5-bb17-5803cd9c079c",
   "metadata": {},
   "outputs": [],
   "source": []
  },
  {
   "cell_type": "code",
   "execution_count": null,
   "id": "64ac4c8c-4c12-49bb-b42e-21553e24d5e4",
   "metadata": {},
   "outputs": [],
   "source": []
  }
 ],
 "metadata": {
  "kernelspec": {
   "display_name": "Python 3 (ipykernel)",
   "language": "python",
   "name": "python3"
  },
  "language_info": {
   "codemirror_mode": {
    "name": "ipython",
    "version": 3
   },
   "file_extension": ".py",
   "mimetype": "text/x-python",
   "name": "python",
   "nbconvert_exporter": "python",
   "pygments_lexer": "ipython3",
   "version": "3.10.8"
  }
 },
 "nbformat": 4,
 "nbformat_minor": 5
}
